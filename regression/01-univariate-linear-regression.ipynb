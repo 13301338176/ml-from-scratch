{
 "cells": [
  {
   "cell_type": "markdown",
   "metadata": {
    "collapsed": true
   },
   "source": [
    "# Linear Regression\n",
    "\n"
   ]
  },
  {
   "cell_type": "markdown",
   "metadata": {
    "collapsed": true
   },
   "source": [
    "## Univariate Linear Regression\n",
    "\n"
   ]
  },
  {
   "cell_type": "code",
   "execution_count": 22,
   "metadata": {
    "collapsed": true
   },
   "outputs": [
    {
     "data": {
      "image/png": "[encoded data removed]",
      "text/plain": [
       "<Figure size 432x288 with 1 Axes>"
      ]
     },
     "metadata": {},
     "output_type": "display_data"
    }
   ],
   "source": [
    "import numpy as np\n",
    "def generate_linear_data(a, b, N):\n",
    "    \"\"\"generate data\"\"\"\n",
    "    x = np.arange(0,N)\n",
    "    # linear data with uniform error\n",
    "    y = a*x + b + (2 * np.random.random((N)) -1)\n",
    "    return x, y\n",
    "\n",
    "x, y = generate_linear_data(1, 0, 20)\n",
    "import matplotlib.pyplot as plt\n",
    "plt.scatter(x,y)\n",
    "plt.show()"
   ]
  },
  {
   "cell_type": "code",
   "execution_count": 23,
   "metadata": {},
   "outputs": [],
   "source": [
    "# our hypothesis\n",
    "def hypothesis(a, b):\n",
    "    \"\"\"In this case, our hypothesis is a line\"\"\"\n",
    "    return lambda x: a*x + b\n",
    "\n",
    "def cost(a, b, x, y):\n",
    "    # Squared error function \n",
    "    # Mean squared error\n",
    "    N = len(x)\n",
    "    h = hypothesis(a, b)\n",
    "    # half, because good for gradient descent (derivative cancel out)\n",
    "    return 1/(2*N) * np.sum(np.square(h(x)-y))\n",
    "\n",
    "def cost_derivative_b(a,b, x, y):\n",
    "    N = len(x)\n",
    "    h = hypothesis(a, b)\n",
    "    return 1/N * np.sum(h(x)-y)\n",
    "\n",
    "def cost_derivative_a(a,b, x, y):\n",
    "    N = len(x)\n",
    "    h = hypothesis(a, b)\n",
    "    return 1/N * np.sum((h(x)-y)*x)"
   ]
  },
  {
   "cell_type": "code",
   "execution_count": 48,
   "metadata": {},
   "outputs": [],
   "source": [
    "# find parameters that minimize the cost function: Gradient Descent\n",
    "\n",
    "def gradient_descent(x, y, alpha=0.05, num_steps=1000):\n",
    "    \"\"\"Given data, return two parameters, a and b, for the best fit\"\"\"\n",
    "    a, b = np.random.random((2))\n",
    "    \n",
    "    for i in range(num_steps):\n",
    "        c = cost(a, b, x, y)\n",
    "        new_a = a - alpha * cost_derivative_a(a, b, x, y)\n",
    "        new_b = b - alpha * cost_derivative_b(a, b, x, y)\n",
    "        if i%1000==0: print(\"Iteration: \", i, \"cost: \", c, new_a, new_a)\n",
    "        a = new_a\n",
    "        b = new_b\n",
    "    return a, b"
   ]
  },
  {
   "cell_type": "code",
   "execution_count": 49,
   "metadata": {},
   "outputs": [
    {
     "name": "stdout",
     "output_type": "stream",
     "text": [
      "Iteration:  0 cost:  5.705370523489428 0.8248154058257321 0.8248154058257321\nIteration:  1000 cost:  0.15881391464767225 0.9924835912718857 0.9924835912718857\nIteration:  2000 cost:  0.1504326637550376 1.00717230831587 1.00717230831587\nIteration:  3000 cost:  0.14985700005775235 1.0110218928910448 1.0110218928910448\nIteration:  4000 cost:  0.1498174607698088 1.0120307830042554 1.0120307830042554\nIteration:  5000 cost:  0.1498147450257059 1.012295190563216 1.012295190563216\n"
     ]
    },
    {
     "name": "stdout",
     "output_type": "stream",
     "text": [
      "Iteration:  6000 cost:  0.14981455849563893 1.0123644858772645 1.0123644858772645\nIteration:  7000 cost:  0.14981454568387728 1.0123826466309434 1.0123826466309434\nIteration:  8000 cost:  0.14981454480390533 1.0123874061587514 1.0123874061587514\nIteration:  9000 cost:  0.1498145447434648 1.012388653524657 1.012388653524657\n1.012388980275814 -0.1277887859154025\n"
     ]
    }
   ],
   "source": [
    "a, b = gradient_descent(x,y, alpha=0.005, num_steps=10000)\n",
    "print(a, b)\n",
    "\n"
   ]
  },
  {
   "cell_type": "code",
   "execution_count": 51,
   "metadata": {},
   "outputs": [
    {
     "data": {
      "image/png": "[encoded data removed]",
      "text/plain": [
       "<Figure size 432x288 with 1 Axes>"
      ]
     },
     "metadata": {},
     "output_type": "display_data"
    }
   ],
   "source": [
    "x_arr = np.arange(len(x))\n",
    "y_arr = hypothesis(a, b)(x_arr)\n",
    "\n",
    "plt.scatter(x, y)\n",
    "plt.plot(x_arr, y_arr)\n",
    "plt.show()"
   ]
  },
  {
   "cell_type": "code",
   "execution_count": null,
   "metadata": {},
   "outputs": [],
   "source": []
  }
 ],
 "metadata": {
  "kernelspec": {
   "display_name": "Python 2",
   "language": "python",
   "name": "python2"
  },
  "language_info": {
   "codemirror_mode": {
    "name": "ipython",
    "version": 2
   },
   "file_extension": ".py",
   "mimetype": "text/x-python",
   "name": "python",
   "nbconvert_exporter": "python",
   "pygments_lexer": "ipython2",
   "version": "2.7.6"
  }
 },
 "nbformat": 4,
 "nbformat_minor": 0
}
