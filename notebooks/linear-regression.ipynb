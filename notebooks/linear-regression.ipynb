{
 "cells": [
  {
   "cell_type": "markdown",
   "metadata": {
    "collapsed": true
   },
   "source": [
    "# Linear Regression\n",
    "\n"
   ]
  },
  {
   "cell_type": "markdown",
   "metadata": {},
   "source": [
    "## The problem\n",
    "\n",
    "Linear regression assumes that the predictor function is:\n",
    "\n",
    "$$\\hat{y} = \\mathbf{w}^\\top \\cdot \\phi(\\mathbf{x}) $$\n",
    "\n",
    "With the basis function $\\phi$ equal to the identity function: \n",
    "\n",
    "$$\\hat{y} = \\mathbf{w}^\\top \\cdot \\mathbf{x} $$\n",
    "\n",
    "defined by parameters $\\mathbf{w}$.\n",
    "\n",
    "Given the data $D = \\{(\\mathbf{x_i}, y_i)\\}_{i=1}^m$, we can compute the performance of an hypothesis with the Mean Square Error:\n",
    "\n",
    "$$MSE_D = \\frac{1}{m} \\sum_i (\\hat{y} - y)  $$\n",
    "\n",
    "## Closed-form solution\n",
    "\n",
    "$$\\min MSE_D \\implies \\nabla_{\\mathbf{w}} MSE_D = 0$$\n",
    "\n",
    "$$ \\implies $$\n",
    "\n",
    "$$ \\mathbf{w} = (\\mathbf{X}^T \\mathbf{X})^{-1}  \\mathbf{X}^T \\mathbf{y} $$\n",
    "\n",
    "\n",
    "## Probabilistic interpretation (conditional log-likelihood maximization)\n",
    "\n",
    "If we put the problem if linear regression in term of maximum likelihood estimation, that is, assuming the data are distributed as:\n",
    "\n",
    "- $p(y | x) = \\mathcal{N}(y; \\hat{y}(\\mathbf{w},\\mathbf{x}), \\sigma^2)$\n",
    "\n",
    "We have that:\n",
    "\n",
    "- MSE minimization $\\equiv$ log-likelihood maximization\n",
    "\n",
    "Indeed:\n",
    "$$\n",
    "\\begin{align}\n",
    "\\mathbf{w}_{ML} &= \\arg\\max_\\mathbf{w} p(Y | \\mathbf{X}; \\mathbf{w}) \\\\\n",
    "&= \\arg\\max_\\mathbf{w} \\prod_i p(y_i | \\mathbf{x_i}; \\mathbf{w}) \\\\\n",
    "&= \\arg\\max_\\mathbf{w} \\sum_i\\log p(y_i | \\mathbf{x_i}; \\mathbf{w}) \\\\\n",
    "&= \\arg\\max_\\mathbf{w} - ... - ... - \\sum_i \\frac{||\\hat{y}_i - y_i||^2}{2\\sigma^2}\n",
    "\\end{align}\n",
    "$$\n",
    "\n",
    "## Bayesian LR\n",
    "\n",
    "Adding a prior over the parameters and doing MAP estimation is equivalent to common regularization technique (e.g. Lasso/Ridge regression), when the prior is distributed as Gaussian or Laplacian, respectively."
   ]
  },
  {
   "cell_type": "markdown",
   "metadata": {},
   "source": []
  },
  {
   "cell_type": "markdown",
   "metadata": {
    "collapsed": true
   },
   "source": [
    "## Univariate Linear Regression\n",
    "\n",
    "[Gradient Descent based](#Gradient-Descent-based)  \n",
    "[Closed form](#Closed-form)  \n",
    "[Using Sklearn](#Using-sklearn)  \n",
    "[Using Tensorflow](#Using-sklearn)"
   ]
  },
  {
   "cell_type": "markdown",
   "metadata": {
    "collapsed": true
   },
   "source": [
    "### Gradient Descent based\n",
    " "
   ]
  },
  {
   "cell_type": "code",
   "execution_count": 2,
   "metadata": {},
   "outputs": [
    {
     "name": "stdout",
     "output_type": "stream",
     "text": [
      "(20, 2) (20, 1)\n"
     ]
    },
    {
     "data": {
      "image/png": "[encoded data removed]",
      "text/plain": [
       "<Figure size 432x288 with 1 Axes>"
      ]
     },
     "metadata": {
      "needs_background": "light"
     },
     "output_type": "display_data"
    }
   ],
   "source": [
    "import numpy as np\n",
    "import matplotlib.pyplot as plt\n",
    "\n",
    "\n",
    "def generate_linear_data(w, N):\n",
    "    \"\"\"generate data\"\"\"\n",
    "    x = np.random.uniform(low=0, high=20, size=(N, 1))\n",
    "    # one column of ones for the bias\n",
    "    x = np.hstack([np.ones((N, 1)), x])\n",
    "    # linear data with uniform error\n",
    "    y = x.dot(w) + (2 * np.random.random(N) -1)\n",
    "    y = y.reshape((N, 1))\n",
    "    return x, y\n",
    "\n",
    "\n",
    "x, y = generate_linear_data(np.array([0, 1]), 20)\n",
    "print(x.shape, y.shape)\n",
    "plt.scatter(x[:, 1], y)\n",
    "plt.show()"
   ]
  },
  {
   "cell_type": "code",
   "execution_count": 3,
   "metadata": {},
   "outputs": [],
   "source": [
    "# our hypothesis\n",
    "def hypothesis(w):\n",
    "    \"\"\"In this case, our hypothesis is a line\"\"\"\n",
    "    return lambda x: x.dot(w)\n",
    "\n",
    "\n",
    "def cost(w, x, y):\n",
    "    # Mean squared error\n",
    "    N = len(x)\n",
    "    h = hypothesis(w)\n",
    "    hx = h(x).reshape(y.shape)\n",
    "    # print(x.shape, y.shape)\n",
    "    # print(\"h(x)\", h(x).shape)\n",
    "    # print(\"np.square(h(x)-y)\", (h_x -y).shape)\n",
    "    # print(np.sum(np.square(h(x)-y)))\n",
    "    return 1/(2*N) * np.sum(np.square(hx-y))\n",
    "\n",
    "\n",
    "def cost_derivative(w, x, y):\n",
    "    N = len(x)\n",
    "    h = hypothesis(w)\n",
    "    hx = h(x).reshape(y.shape)\n",
    "    s = (hx-y)*x\n",
    "    # print(hx.shape)\n",
    "    # print(s.shape)\n",
    "    return 1/N * np.sum(s, axis=0)"
   ]
  },
  {
   "cell_type": "code",
   "execution_count": 4,
   "metadata": {},
   "outputs": [],
   "source": [
    "# find parameters that minimize the cost function: Gradient Descent\n",
    "\n",
    "\n",
    "def gradient_descent(x, y, alpha=0.01, num_steps=1000):\n",
    "    \"\"\"Given data, return two parameters, a and b, for the best fit\"\"\"\n",
    "    w = np.random.random(2)\n",
    "    \n",
    "    for i in range(num_steps):\n",
    "        c = cost(w, x, y)\n",
    "        new_w = w - alpha * cost_derivative(w, x, y)\n",
    "        if i % 1000 == 0: \n",
    "            print(\"Iteration:\\t\", i, \"\\tcost:\\t\", c, \"\\tweights:\\t\", w)\n",
    "        w = new_w\n",
    "    return w"
   ]
  },
  {
   "cell_type": "code",
   "execution_count": 5,
   "metadata": {},
   "outputs": [
    {
     "name": "stdout",
     "output_type": "stream",
     "text": [
      "Iteration:\t 0 \tcost:\t 35.4853701003202 \tweights:\t [0.34663164 0.18260219]\n",
      "Iteration:\t 1000 \tcost:\t 0.16418959105036107 \tweights:\t [-0.01697571  0.98774108]\n",
      "Iteration:\t 2000 \tcost:\t 0.16411069414476226 \tweights:\t [-0.03883738  0.98943947]\n",
      "Iteration:\t 3000 \tcost:\t 0.1641104840020508 \tweights:\t [-0.03996565  0.98952712]\n",
      "Iteration:\t 4000 \tcost:\t 0.16411048344233348 \tweights:\t [-0.04002388  0.98953165]\n",
      "Iteration:\t 5000 \tcost:\t 0.1641104834408426 \tweights:\t [-0.04002688  0.98953188]\n",
      "Iteration:\t 6000 \tcost:\t 0.16411048344083853 \tweights:\t [-0.04002704  0.98953189]\n",
      "Iteration:\t 7000 \tcost:\t 0.1641104834408387 \tweights:\t [-0.04002704  0.98953189]\n",
      "Iteration:\t 8000 \tcost:\t 0.16411048344083878 \tweights:\t [-0.04002704  0.98953189]\n",
      "Iteration:\t 9000 \tcost:\t 0.16411048344083856 \tweights:\t [-0.04002704  0.98953189]\n",
      "Final weights: [-0.04002704  0.98953189]\n"
     ]
    }
   ],
   "source": [
    "w = gradient_descent(x,y, alpha=0.01, num_steps=10000)\n",
    "print(\"Final weights:\", w)"
   ]
  },
  {
   "cell_type": "code",
   "execution_count": 6,
   "metadata": {},
   "outputs": [
    {
     "data": {
      "image/png": "[encoded data removed]",
      "text/plain": [
       "<Figure size 432x288 with 1 Axes>"
      ]
     },
     "metadata": {
      "needs_background": "light"
     },
     "output_type": "display_data"
    }
   ],
   "source": [
    "x_arr = np.arange(20).reshape((20, 1))\n",
    "x_arr = np.hstack([np.ones((20, 1)), x_arr])\n",
    "y_arr = hypothesis(w)(x_arr)\n",
    "\n",
    "plt.scatter(x[:, 1], y)\n",
    "plt.plot(x_arr[:, 1], y_arr, c=\"r\")\n",
    "plt.show()"
   ]
  },
  {
   "cell_type": "markdown",
   "metadata": {},
   "source": [
    "### Closed-form"
   ]
  },
  {
   "cell_type": "code",
   "execution_count": 7,
   "metadata": {},
   "outputs": [
    {
     "name": "stdout",
     "output_type": "stream",
     "text": [
      "Closed-form weights: [-0.04002704  0.98953189]\n"
     ]
    },
    {
     "data": {
      "image/png": "[encoded data removed]",
      "text/plain": [
       "<Figure size 432x288 with 1 Axes>"
      ]
     },
     "metadata": {
      "needs_background": "light"
     },
     "output_type": "display_data"
    }
   ],
   "source": [
    "w_closed_form = np.linalg.inv(x.T.dot(x)).dot(x.T).dot(y).reshape(w.size)\n",
    "print(\"Closed-form weights:\", w_closed_form)\n",
    "y_closed_form = hypothesis(w_closed_form)(x_arr)\n",
    "\n",
    "plt.scatter(x[:, 1], y)\n",
    "plt.plot(x_arr[:, 1], y_arr, c=\"r\")\n",
    "plt.plot(x_arr[:, 1], y_closed_form, c=\"b\")\n",
    "plt.show()"
   ]
  },
  {
   "cell_type": "markdown",
   "metadata": {},
   "source": [
    "### Using Sklearn"
   ]
  },
  {
   "cell_type": "code",
   "execution_count": 8,
   "metadata": {},
   "outputs": [
    {
     "name": "stdout",
     "output_type": "stream",
     "text": [
      "[[0.         0.98953189]]\n"
     ]
    },
    {
     "data": {
      "image/png": "[encoded data removed]",
      "text/plain": [
       "<Figure size 432x288 with 1 Axes>"
      ]
     },
     "metadata": {
      "needs_background": "light"
     },
     "output_type": "display_data"
    }
   ],
   "source": [
    "from sklearn.linear_model import LinearRegression\n",
    "\n",
    "model = LinearRegression()\n",
    "model.fit(x, y)\n",
    "y_sklearn = model.predict(x_arr)\n",
    "print(model.coef_)\n",
    "plt.scatter(x[:, 1], y)\n",
    "plt.plot(x_arr[:, 1], y_arr, c=\"r\")\n",
    "plt.plot(x_arr[:, 1], y_closed_form, c=\"b\")\n",
    "plt.plot(x_arr[:, 1], y_sklearn, c=\"y\")\n",
    "plt.show()"
   ]
  },
  {
   "cell_type": "markdown",
   "metadata": {},
   "source": [
    "### Using Tensorflow"
   ]
  },
  {
   "cell_type": "code",
   "execution_count": 9,
   "metadata": {},
   "outputs": [
    {
     "name": "stdout",
     "output_type": "stream",
     "text": [
      "Initial weights:  [0.7186389  0.29934943]\n",
      "27.771393 weights:  [0.7296309 0.4470277]\n",
      "0.50044817 weights:  [0.7205144  0.93044704]\n",
      "0.4812139 weights:  [0.67678934 0.933844  ]\n",
      "0.46412832 weights:  [0.6355785 0.9370455]\n",
      "0.4489502 weights:  [0.5967366  0.94006306]\n",
      "0.43546754 weights:  [0.5601278  0.94290715]\n",
      "0.42349035 weights:  [0.52562374 0.9455877 ]\n",
      "0.41285086 weights:  [0.49310333 0.94811416]\n",
      "0.40339962 weights:  [0.46245274 0.9504953 ]\n",
      "0.39500386 weights:  [0.43356416 0.9527396 ]\n",
      "final loss:  0.3876158 weights:  [0.40660086 0.95483434]\n"
     ]
    },
    {
     "data": {
      "image/png": "[encoded data removed]",
      "text/plain": [
       "<Figure size 432x288 with 1 Axes>"
      ]
     },
     "metadata": {
      "needs_background": "light"
     },
     "output_type": "display_data"
    }
   ],
   "source": [
    "import tensorflow as tf\n",
    "\n",
    "N = len(x)\n",
    "X = tf.placeholder(tf.float32)\n",
    "Y = tf.placeholder(tf.float32)\n",
    "\n",
    "W = tf.Variable(tf.random_uniform((2, )), name=\"weights\", expected_shape=(2, ))\n",
    "\n",
    "Y_Pred = tf.reshape(tf.tensordot(X, W, 1), (N, 1))\n",
    "error = tf.square(Y_Pred - Y)\n",
    "f_error = tf.reduce_sum(error)/len(x)  # + tf.norm(W)\n",
    "optimizer = tf.train.GradientDescentOptimizer(0.001).minimize(f_error)\n",
    "\n",
    "epochs = 1000\n",
    "with tf.Session() as sess:\n",
    "    sess.run(tf.global_variables_initializer())\n",
    "    print(\"Initial weights: \", W.eval())\n",
    "    \n",
    "    loss_expected = 0\n",
    "    for i in range(epochs):\n",
    "        \n",
    "        sess.run(optimizer, {X: x, Y: y})\n",
    "        \n",
    "        loss_per_epoch = sess.run(f_error, {X: x, Y: y})\n",
    "        \n",
    "        # Allow the training to quit if we've reached a minimum\n",
    "        if np.abs(loss_expected - loss_per_epoch) < 0.0000001:\n",
    "            break\n",
    "        loss_expected = loss_per_epoch\n",
    "        \n",
    "        if i%100==0:\n",
    "            print(loss_expected, \"weights: \", W.eval(session=sess))\n",
    "\n",
    "    print(\"final loss: \", loss_expected, \"weights: \", W.eval(session=sess))\n",
    "    y_tensorflow = Y_Pred.eval(feed_dict={X: x_arr}, session=sess)\n",
    "    plt.figure()\n",
    "    plt.scatter(x[:, 1], y)\n",
    "    plt.plot(x_arr[:, 1], y_arr, c=\"r\")\n",
    "    plt.plot(x_arr[:, 1], y_closed_form, c=\"b\")\n",
    "    plt.plot(x_arr[:, 1], y_sklearn, c=\"y\")\n",
    "    plt.plot(x_arr[:, 1], y_tensorflow, c=\"g\")\n",
    "    plt.show()\n",
    "    \n"
   ]
  },
  {
   "cell_type": "markdown",
   "metadata": {},
   "source": [
    "## References\n",
    "\n",
    "- [Chapter 5 of deeplearningbook.org](http://www.deeplearningbook.org/contents/ml.html)"
   ]
  },
  {
   "cell_type": "code",
   "execution_count": null,
   "metadata": {},
   "outputs": [],
   "source": []
  }
 ],
 "metadata": {
  "kernelspec": {
   "display_name": "Python 3",
   "language": "python",
   "name": "python3"
  },
  "language_info": {
   "codemirror_mode": {
    "name": "ipython",
    "version": 3
   },
   "file_extension": ".py",
   "mimetype": "text/x-python",
   "name": "python",
   "nbconvert_exporter": "python",
   "pygments_lexer": "ipython3",
   "version": "3.6.7"
  }
 },
 "nbformat": 4,
 "nbformat_minor": 1
}
