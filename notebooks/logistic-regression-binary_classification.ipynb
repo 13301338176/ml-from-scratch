{
 "cells": [
  {
   "cell_type": "markdown",
   "metadata": {
    "collapsed": true
   },
   "source": [
    "# Binary Classification"
   ]
  },
  {
   "cell_type": "code",
   "execution_count": 1,
   "metadata": {},
   "outputs": [],
   "source": [
    "import numpy as np\n",
    "import matplotlib.pyplot as plt\n",
    "\n",
    "# hypothesis: Logistic function/Sigmoid Function\n",
    "\n",
    "def _sigmoid(z):\n",
    "    return 1/(1 + np.exp(-z))    \n",
    "\n",
    "def hypothesis(theta):\n",
    "    \"\"\"theta: a vertical vector\"\"\"\n",
    "    return lambda x: _sigmoid(x.dot(theta))\n",
    "\n",
    "\n",
    "# cost function\n",
    "\n",
    "def cost(theta, x, y):\n",
    "    return np.squeeze(1/x.shape[0]*(- y.T.dot(np.log(hypothesis(theta)(x))) - (1 - y).T.dot(np.log(1 - hypothesis(theta)(x)))))\n",
    "\n",
    "def cost_derivative(theta, x, y):\n",
    "    N = len(x)\n",
    "    h = hypothesis(theta)\n",
    "    return 1/N * x.T.dot(h(x)-y)"
   ]
  },
  {
   "cell_type": "code",
   "execution_count": 2,
   "metadata": {},
   "outputs": [
    {
     "name": "stdout",
     "output_type": "stream",
     "text": [
      "[[0]\n",
      " [1]\n",
      " [2]\n",
      " [3]]\n",
      "[[0.]\n",
      " [0.]\n",
      " [0.]\n",
      " [0.]]\n"
     ]
    },
    {
     "data": {
      "text/plain": [
       "<matplotlib.collections.PathCollection at 0x7f65ce388828>"
      ]
     },
     "execution_count": 2,
     "metadata": {},
     "output_type": "execute_result"
    },
    {
     "data": {
      "image/png": "[encoded data removed]",
      "text/plain": [
       "<Figure size 432x288 with 1 Axes>"
      ]
     },
     "metadata": {
      "needs_background": "light"
     },
     "output_type": "display_data"
    }
   ],
   "source": [
    "def generate_linear_multivariate_data(a, N):\n",
    "    \"\"\"generate multivariate data\n",
    "    :param np.array a are the parameters (including bias)\"\"\"\n",
    "    dim = len(a)\n",
    "    x = np.tile(np.arange(0,N), (dim-1, 1)).T\n",
    "    \n",
    "    # x<N/2 -> 0; x>=N/2 -> 1 \n",
    "    y = np.vstack((np.zeros(shape=(N//2, 1)), np.ones(shape=(N-N//2, 1))))\n",
    "    return x, y\n",
    "\n",
    "x, y = generate_linear_multivariate_data(np.array([0, 2]), 20)\n",
    "print(x[:4])\n",
    "print(y[:4])   \n",
    "\n",
    "plt.scatter(x, y)"
   ]
  },
  {
   "cell_type": "code",
   "execution_count": 3,
   "metadata": {},
   "outputs": [],
   "source": [
    "def gradient_descent(x, y, alpha=0.005, num_steps=1000):\n",
    "    \"\"\"Given data, return the weights of the best fit\"\"\"\n",
    "    x_bias = np.hstack((np.ones((x.shape[0], 1)), x))\n",
    "    a = np.random.normal(size=(x_bias.shape[1], 1))\n",
    "    \n",
    "    for i in range(num_steps):\n",
    "        c = cost(a, x_bias, y)\n",
    "        new_a = a - alpha * cost_derivative(a, x_bias, y)\n",
    "        if i%1000==0: print(\"Iteration: \", i, \"cost: \", c)\n",
    "        a = new_a\n",
    "    return a\n",
    "\n"
   ]
  },
  {
   "cell_type": "code",
   "execution_count": 4,
   "metadata": {},
   "outputs": [
    {
     "name": "stdout",
     "output_type": "stream",
     "text": [
      "Iteration:  0 cost:  10.053782683663584\n",
      "Iteration:  1000 cost:  0.136646987207103\n",
      "Iteration:  2000 cost:  0.10396101902363003\n",
      "Iteration:  3000 cost:  0.08902936399305553\n",
      "Iteration:  4000 cost:  0.07984219056081879\n",
      "Iteration:  5000 cost:  0.07338803747362804\n",
      "Iteration:  6000 cost:  0.06849740426361108\n",
      "Iteration:  7000 cost:  0.06460524134279337\n",
      "Iteration:  8000 cost:  0.06139932507477568\n",
      "Iteration:  9000 cost:  0.05869058036842424\n",
      "[[-13.12212687]\n",
      " [  1.39490401]]\n"
     ]
    }
   ],
   "source": [
    "a = gradient_descent(x,y, alpha=0.1, num_steps=10000)\n",
    "print(a)"
   ]
  },
  {
   "cell_type": "code",
   "execution_count": 5,
   "metadata": {},
   "outputs": [
    {
     "data": {
      "image/png": "[encoded data removed]",
      "text/plain": [
       "<Figure size 432x288 with 1 Axes>"
      ]
     },
     "metadata": {
      "needs_background": "light"
     },
     "output_type": "display_data"
    }
   ],
   "source": [
    "x_arr = np.hstack((np.ones((300, 1)), np.arange(-15, 15, 0.1).reshape(300, 1)))\n",
    "y_arr = hypothesis(a)(x_arr)\n",
    "plt.scatter(x, y)\n",
    "plt.plot(x_arr[:, 1], y_arr)\n",
    "plt.show()"
   ]
  },
  {
   "cell_type": "code",
   "execution_count": 6,
   "metadata": {},
   "outputs": [
    {
     "name": "stdout",
     "output_type": "stream",
     "text": [
      "[9] [0.36170057]\n",
      "[10] [0.69570186]\n"
     ]
    }
   ],
   "source": [
    "# x=9  -> y=0 -> probability < 0.5\n",
    "print(x[9], hypothesis(a)(np.concatenate((np.array([1]), x[9]))))\n",
    "# x=10 -> y=1 -> probability > 0.5\n",
    "print(x[10], hypothesis(a)(np.concatenate((np.array([1]), x[10]))))"
   ]
  },
  {
   "cell_type": "code",
   "execution_count": null,
   "metadata": {},
   "outputs": [],
   "source": []
  }
 ],
 "metadata": {
  "kernelspec": {
   "display_name": "Python 3",
   "language": "python",
   "name": "python3"
  },
  "language_info": {
   "codemirror_mode": {
    "name": "ipython",
    "version": 3
   },
   "file_extension": ".py",
   "mimetype": "text/x-python",
   "name": "python",
   "nbconvert_exporter": "python",
   "pygments_lexer": "ipython3",
   "version": "3.6.7"
  }
 },
 "nbformat": 4,
 "nbformat_minor": 1
}
