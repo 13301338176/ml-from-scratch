{
 "cells": [
  {
   "cell_type": "markdown",
   "metadata": {},
   "source": [
    "#Metropolis-Hastings algorithm\n",
    "\n",
    "It construct a Markov chain on X that is ergodic and stationary with respect to π therefore converges in distribution to π\n"
   ]
  },
  {
   "cell_type": "markdown",
   "metadata": {},
   "source": [
    "## References\n",
    "\n",
    "- [1] [The  Metropolis–Hastings algorithm](https://arxiv.org/pdf/1504.01896.pdf)\n",
    "- [2] [The Best of the 20th Century: Editors Name Top 10  Algorithms](http://www.uta.edu/faculty/rcli/TopTen/topten.pdf)"
   ]
  },
  {
   "cell_type": "code",
   "execution_count": 40,
   "metadata": {},
   "outputs": [
    {
     "name": "stderr",
     "output_type": "stream",
     "text": [
      "/home/marcofavorito/.virtualenvs/ML-from-scratch/lib/python3.5/site-packages/ipykernel_launcher.py:13: RuntimeWarning: divide by zero encountered in double_scalars\n  del sys.path[0]\n"
     ]
    },
    {
     "data": {
      "image/png": "[encoded data removed]",
      "text/plain": [
       "<Figure size 432x288 with 1 Axes>"
      ]
     },
     "metadata": {},
     "output_type": "display_data"
    }
   ],
   "source": [
    "\n",
    "\n",
    "def uniform(x, alpha):\n",
    "    return np.random.uniform(x-alpha, x+alpha)\n",
    "\n",
    "# proposal 1: uniform between (x-alpha, x+alpha)\n",
    "def proposal_1(alpha=0.5):\n",
    "    return lambda x: uniform(x, alpha) \n",
    "\n",
    "# Metropolis algorithm implementation\n",
    "def metropolis(x, prob_dist):\n",
    "    y = prob_dist(x)\n",
    "    k = min(target_distribution(y) / target_distribution(x), 1)\n",
    "    if np.random.random() < k:\n",
    "        res = y\n",
    "    else:\n",
    "        res = x\n",
    "        \n",
    "    return res\n",
    "\n",
    "\n",
    "T = 10000\n",
    "prob_dist = proposal_1(2.0)\n",
    "xs = np.zeros(T)\n",
    "for t in range(1, T):\n",
    "    xs[t] = metropolis(xs[t-1], prob_dist)\n",
    "    \n",
    "plt.hist(xs, 100, range=(-4, 4), density=True)\n",
    "plt.plot(np.linspace(-4, 4, 200), X)\n",
    "plt.show()"
   ]
  },
  {
   "cell_type": "markdown",
   "metadata": {},
   "source": [
    "## References\n",
    "\n",
    "- [1] [The  Metropolis–Hastings algorithm](https://arxiv.org/pdf/1504.01896.pdf)\n",
    "- [2] [The Best of the 20th Century: Editors Name Top 10  Algorithms](http://www.uta.edu/faculty/rcli/TopTen/topten.pdf)"
   ]
  }
 ],
 "metadata": {
  "kernelspec": {
   "display_name": "Python 2",
   "language": "python",
   "name": "python2"
  },
  "language_info": {
   "codemirror_mode": {
    "name": "ipython",
    "version": 2
   },
   "file_extension": ".py",
   "mimetype": "text/x-python",
   "name": "python",
   "nbconvert_exporter": "python",
   "pygments_lexer": "ipython2",
   "version": "2.7.6"
  }
 },
 "nbformat": 4,
 "nbformat_minor": 0
}
