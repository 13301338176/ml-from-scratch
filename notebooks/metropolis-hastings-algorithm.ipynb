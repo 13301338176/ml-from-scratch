{
 "cells": [
  {
   "cell_type": "markdown",
   "metadata": {},
   "source": [
    "# Metropolis-Hastings algorithm\n",
    "\n",
    "It construct a Markov chain on X that is ergodic and stationary with respect to π therefore converges in distribution to π\n"
   ]
  },
  {
   "cell_type": "markdown",
   "metadata": {},
   "source": [
    "## References\n",
    "\n",
    "- [1] [The  Metropolis–Hastings algorithm](https://arxiv.org/pdf/1504.01896.pdf)\n",
    "- [2] [The Best of the 20th Century: Editors Name Top 10  Algorithms](http://www.uta.edu/faculty/rcli/TopTen/topten.pdf)\n",
    "- [3] [Equation of State Calculations by Fast Computing Machines](https://bayes.wustl.edu/Manual/EquationOfState.pdf)"
   ]
  },
  {
   "cell_type": "code",
   "execution_count": 30,
   "metadata": {},
   "outputs": [
    {
     "data": {
      "image/png": "[encoded data removed]",
      "text/plain": [
       "<Figure size 432x288 with 1 Axes>"
      ]
     },
     "metadata": {
      "needs_background": "light"
     },
     "output_type": "display_data"
    }
   ],
   "source": [
    "import numpy as np\n",
    "import matplotlib.pyplot as plt\n",
    "import math\n",
    "from scipy.stats import norm\n",
    "\n",
    "def uniform(x, alpha):\n",
    "    return np.random.uniform(x-alpha, x+alpha)\n",
    "\n",
    "# proposal 1: uniform between (x-alpha, x+alpha)\n",
    "def proposal_1(alpha=0.5):\n",
    "    return lambda x: uniform(x, alpha) \n",
    "\n",
    "def target_distribution(x):\n",
    "    return np.sin(x)**2*np.sin(2*x)**2*norm.pdf(x)\n",
    "\n",
    "# Metropolis algorithm implementation\n",
    "def metropolis(x, prob_dist):\n",
    "    y = prob_dist(x)\n",
    "    # prevent division by zero\n",
    "    den = target_distribution(x)\n",
    "    den = 1e-9 if den == 0.0 else den\n",
    "    k = min(target_distribution(y) / den, 1)\n",
    "    if np.random.random() < k:\n",
    "        res = y\n",
    "    else:\n",
    "        res = x\n",
    "        \n",
    "    return res\n",
    "\n",
    "\n",
    "T = 10000\n",
    "prob_dist = proposal_1(2.0)\n",
    "xs = np.zeros(T)\n",
    "for t in range(1, T):\n",
    "    xs[t] = metropolis(xs[t-1], prob_dist)\n",
    "    \n",
    "X = np.linspace(-4, 4, 200)\n",
    "Y = target_distribution(X)\n",
    "plt.hist(xs, 100, range=(-4, 4), density=True)\n",
    "plt.plot(X, Y)\n",
    "plt.show()"
   ]
  },
  {
   "cell_type": "markdown",
   "metadata": {},
   "source": [
    "## References\n",
    "\n",
    "- [1] [The  Metropolis–Hastings algorithm](https://arxiv.org/pdf/1504.01896.pdf)\n",
    "- [2] [The Best of the 20th Century: Editors Name Top 10  Algorithms](http://www.uta.edu/faculty/rcli/TopTen/topten.pdf)"
   ]
  }
 ],
 "metadata": {
  "kernelspec": {
   "display_name": "Python 3",
   "language": "python",
   "name": "python3"
  },
  "language_info": {
   "codemirror_mode": {
    "name": "ipython",
    "version": 3
   },
   "file_extension": ".py",
   "mimetype": "text/x-python",
   "name": "python",
   "nbconvert_exporter": "python",
   "pygments_lexer": "ipython3",
   "version": "3.6.7"
  }
 },
 "nbformat": 4,
 "nbformat_minor": 1
}
