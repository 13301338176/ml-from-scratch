{
 "cells": [
  {
   "cell_type": "markdown",
   "metadata": {
    "collapsed": true
   },
   "source": [
    "# Linear Regression\n",
    "\n"
   ]
  },
  {
   "cell_type": "markdown",
   "metadata": {
    "collapsed": true
   },
   "source": [
    "## Univariate Linear Regression\n",
    "\n",
    "[Gradient Descent based](#Gradient-Descent-based)  \n",
    "[Closed form](#Closed-form)  \n",
    "[Using Sklearn](#Using-sklearn)  \n",
    "[Using Tensorflow](#Using-sklearn)"
   ]
  },
  {
   "cell_type": "markdown",
   "metadata": {
    "collapsed": true
   },
   "source": [
    "### Gradient Descent based\n",
    " "
   ]
  },
  {
   "cell_type": "code",
   "execution_count": 83,
   "metadata": {
    "collapsed": true
   },
   "outputs": [
    {
     "name": "stdout",
     "output_type": "stream",
     "text": [
      "(20, 2) (20, 1)\n"
     ]
    },
    {
     "data": {
      "image/png": "[encoded data removed]",
      "text/plain": [
       "<Figure size 432x288 with 1 Axes>"
      ]
     },
     "metadata": {},
     "output_type": "display_data"
    }
   ],
   "source": [
    "import numpy as np\n",
    "import matplotlib.pyplot as plt\n",
    "\n",
    "\n",
    "def generate_linear_data(w, N):\n",
    "    \"\"\"generate data\"\"\"\n",
    "    x = np.random.uniform(low=0, high=20, size=(N, 1))\n",
    "    # one column of ones for the bias\n",
    "    x = np.hstack([np.ones((N, 1)), x])\n",
    "    # linear data with uniform error\n",
    "    y = x.dot(w) + (2 * np.random.random(N) -1)\n",
    "    y = y.reshape((N, 1))\n",
    "    return x, y\n",
    "\n",
    "\n",
    "x, y = generate_linear_data(np.array([0, 1]), 20)\n",
    "print(x.shape, y.shape)\n",
    "plt.scatter(x[:, 1], y)\n",
    "plt.show()"
   ]
  },
  {
   "cell_type": "code",
   "execution_count": 84,
   "metadata": {},
   "outputs": [],
   "source": [
    "# our hypothesis\n",
    "def hypothesis(w):\n",
    "    \"\"\"In this case, our hypothesis is a line\"\"\"\n",
    "    return lambda x: x.dot(w)\n",
    "\n",
    "\n",
    "def cost(w, x, y):\n",
    "    # Mean squared error\n",
    "    N = len(x)\n",
    "    h = hypothesis(w)\n",
    "    hx = h(x).reshape(y.shape)\n",
    "    # print(x.shape, y.shape)\n",
    "    # print(\"h(x)\", h(x).shape)\n",
    "    # print(\"np.square(h(x)-y)\", (h_x -y).shape)\n",
    "    # print(np.sum(np.square(h(x)-y)))\n",
    "    return 1/(2*N) * np.sum(np.square(hx-y))\n",
    "\n",
    "\n",
    "def cost_derivative(w, x, y):\n",
    "    N = len(x)\n",
    "    h = hypothesis(w)\n",
    "    hx = h(x).reshape(y.shape)\n",
    "    s = (hx-y)*x\n",
    "    # print(hx.shape)\n",
    "    # print(s.shape)\n",
    "    return 1/N * np.sum(s, axis=0)"
   ]
  },
  {
   "cell_type": "code",
   "execution_count": 85,
   "metadata": {},
   "outputs": [],
   "source": [
    "# find parameters that minimize the cost function: Gradient Descent\n",
    "\n",
    "\n",
    "def gradient_descent(x, y, alpha=0.01, num_steps=1000):\n",
    "    \"\"\"Given data, return two parameters, a and b, for the best fit\"\"\"\n",
    "    w = np.random.random(2)\n",
    "    \n",
    "    for i in range(num_steps):\n",
    "        c = cost(w, x, y)\n",
    "        new_w = w - alpha * cost_derivative(w, x, y)\n",
    "        if i % 1000 == 0: \n",
    "            print(\"Iteration:\\t\", i, \"\\tcost:\\t\", c, \"\\tweights:\\t\", w)\n",
    "        w = new_w\n",
    "    return w"
   ]
  },
  {
   "cell_type": "code",
   "execution_count": 86,
   "metadata": {},
   "outputs": [
    {
     "name": "stdout",
     "output_type": "stream",
     "text": [
      "Iteration:\t 0 \tcost:\t 0.3608710763426947 \tweights:\t [0.58205048 0.93574791]\nIteration:\t 1000 \tcost:\t 0.14558593207384032 \tweights:\t [-0.58978805  1.04555045]\nIteration:\t 2000 \tcost:\t 0.14339522427617102 \tweights:\t [-0.7152264   1.05526208]\nIteration:\t 3000 \tcost:\t 0.1433701849821347 \tweights:\t [-0.72863703  1.05630035]\nIteration:\t 4000 \tcost:\t 0.143369898788674 \tweights:\t [-0.73007077  1.05641136]\nIteration:\t 5000 \tcost:\t 0.1433698955175477 \tweights:\t [-0.73022405  1.05642322]\nIteration:\t 6000 \tcost:\t 0.1433698954801592 \tweights:\t [-0.73024043  1.05642449]\nIteration:\t 7000 \tcost:\t 0.14336989547973206 \tweights:\t [-0.73024219  1.05642463]\nIteration:\t 8000 \tcost:\t 0.14336989547972723 \tweights:\t [-0.73024237  1.05642464]\nIteration:\t 9000 \tcost:\t 0.14336989547972698 \tweights:\t [-0.73024239  1.05642464]\nFinal weights: [-0.7302424   1.05642464]\n"
     ]
    }
   ],
   "source": [
    "w = gradient_descent(x,y, alpha=0.01, num_steps=10000)\n",
    "print(\"Final weights:\", w)"
   ]
  },
  {
   "cell_type": "code",
   "execution_count": 87,
   "metadata": {},
   "outputs": [
    {
     "data": {
      "image/png": "[encoded data removed]",
      "text/plain": [
       "<Figure size 432x288 with 1 Axes>"
      ]
     },
     "metadata": {},
     "output_type": "display_data"
    }
   ],
   "source": [
    "x_arr = np.arange(20).reshape((20, 1))\n",
    "x_arr = np.hstack([np.ones((20, 1)), x_arr])\n",
    "y_arr = hypothesis(w)(x_arr)\n",
    "\n",
    "plt.scatter(x[:, 1], y)\n",
    "plt.plot(x_arr[:, 1], y_arr, c=\"r\")\n",
    "plt.show()"
   ]
  },
  {
   "cell_type": "markdown",
   "metadata": {},
   "source": [
    "### Closed-form"
   ]
  },
  {
   "cell_type": "code",
   "execution_count": 88,
   "metadata": {},
   "outputs": [
    {
     "name": "stdout",
     "output_type": "stream",
     "text": [
      "Closed-form weights: [-0.7302424   1.05642464]\n"
     ]
    },
    {
     "data": {
      "image/png": "[encoded data removed]",
      "text/plain": [
       "<Figure size 432x288 with 1 Axes>"
      ]
     },
     "metadata": {},
     "output_type": "display_data"
    }
   ],
   "source": [
    "w_closed_form = np.linalg.inv(x.T.dot(x)).dot(x.T).dot(y).reshape(w.size)\n",
    "print(\"Closed-form weights:\", w_closed_form)\n",
    "y_closed_form = hypothesis(w_closed_form)(x_arr)\n",
    "\n",
    "plt.scatter(x[:, 1], y)\n",
    "plt.plot(x_arr[:, 1], y_arr, c=\"r\")\n",
    "plt.plot(x_arr[:, 1], y_closed_form, c=\"b\")\n",
    "plt.show()"
   ]
  },
  {
   "cell_type": "markdown",
   "metadata": {},
   "source": [
    "### Using Sklearn"
   ]
  },
  {
   "cell_type": "code",
   "execution_count": 92,
   "metadata": {},
   "outputs": [
    {
     "name": "stdout",
     "output_type": "stream",
     "text": [
      "[[0.         1.05642464]]\n"
     ]
    },
    {
     "data": {
      "image/png": "[encoded data removed]",
      "text/plain": [
       "<Figure size 432x288 with 1 Axes>"
      ]
     },
     "metadata": {},
     "output_type": "display_data"
    }
   ],
   "source": [
    "from sklearn.linear_model import LinearRegression\n",
    "\n",
    "model = LinearRegression()\n",
    "model.fit(x, y)\n",
    "y_sklearn = model.predict(x_arr)\n",
    "print(model.coef_)\n",
    "plt.scatter(x[:, 1], y)\n",
    "plt.plot(x_arr[:, 1], y_arr, c=\"r\")\n",
    "plt.plot(x_arr[:, 1], y_closed_form, c=\"b\")\n",
    "plt.plot(x_arr[:, 1], y_sklearn, c=\"y\")\n",
    "plt.show()"
   ]
  },
  {
   "cell_type": "markdown",
   "metadata": {},
   "source": [
    "### Using Tensorflow"
   ]
  },
  {
   "cell_type": "code",
   "execution_count": 94,
   "metadata": {
    "collapsed": true
   },
   "outputs": [
    {
     "name": "stdout",
     "output_type": "stream",
     "text": [
      "Initial weights:  [0.77391386 0.02364945]\n60.336987 weights:  [0.79162663 0.26157197]\n"
     ]
    },
    {
     "name": "stdout",
     "output_type": "stream",
     "text": [
      "0.7957499 weights:  [0.77496064 0.93988955]\n0.75224227 weights:  [0.70919544 0.94498116]\n"
     ]
    },
    {
     "name": "stdout",
     "output_type": "stream",
     "text": [
      "0.7124538 weights:  [0.6463033 0.9498504]\n0.6760658 weights:  [0.58615917 0.9545068 ]\n"
     ]
    },
    {
     "name": "stdout",
     "output_type": "stream",
     "text": [
      "0.64278793 weights:  [0.52864265 0.9589599 ]\n0.6123547 weights:  [0.47363925 0.9632183 ]\n"
     ]
    },
    {
     "name": "stdout",
     "output_type": "stream",
     "text": [
      "0.5845228 weights:  [0.42103916 0.96729064]\n0.55906963 weights:  [0.37073722 0.97118515]\n"
     ]
    },
    {
     "name": "stdout",
     "output_type": "stream",
     "text": [
      "0.535792 weights:  [0.3226331 0.9749094]\nfinal loss:  0.51470786 weights:  [0.27708077 0.9784362 ]\n"
     ]
    },
    {
     "data": {
      "image/png": "[encoded data removed]",
      "text/plain": [
       "<Figure size 432x288 with 1 Axes>"
      ]
     },
     "metadata": {},
     "output_type": "display_data"
    }
   ],
   "source": [
    "import tensorflow as tf\n",
    "\n",
    "N = len(x)\n",
    "X = tf.placeholder(tf.float32)\n",
    "Y = tf.placeholder(tf.float32)\n",
    "\n",
    "W = tf.Variable(tf.random_uniform((2, )), name=\"weights\", expected_shape=(2, ))\n",
    "\n",
    "Y_Pred = tf.reshape(tf.tensordot(X, W, 1), (N, 1))\n",
    "error = tf.square(Y_Pred - Y)\n",
    "f_error = tf.reduce_sum(error)/len(x) # + tf.norm(W)\n",
    "optimizer = tf.train.GradientDescentOptimizer(0.001).minimize(f_error)\n",
    "\n",
    "epochs = 1000\n",
    "with tf.Session() as sess:\n",
    "    sess.run(tf.global_variables_initializer())\n",
    "    print(\"Initial weights: \", W.eval())\n",
    "    \n",
    "    loss_expected = 0\n",
    "    for i in range(epochs):\n",
    "        \n",
    "        sess.run(optimizer, {X: x, Y: y})\n",
    "        \n",
    "        loss_per_epoch = sess.run(f_error, {X: x, Y: y})\n",
    "        \n",
    "        # Allow the training to quit if we've reached a minimum\n",
    "        if np.abs(loss_expected - loss_per_epoch) < 0.0000001:\n",
    "            break\n",
    "        loss_expected = loss_per_epoch\n",
    "        \n",
    "        if i%100==0:\n",
    "            print(loss_expected, \"weights: \", W.eval(session=sess))\n",
    "\n",
    "    print(\"final loss: \", loss_expected, \"weights: \", W.eval(session=sess))\n",
    "    y_tensorflow = Y_Pred.eval(feed_dict={X: x_arr}, session=sess)\n",
    "    plt.figure()\n",
    "    plt.scatter(x[:, 1], y)\n",
    "    plt.plot(x_arr[:, 1], y_arr, c=\"r\")\n",
    "    plt.plot(x_arr[:, 1], y_closed_form, c=\"b\")\n",
    "    plt.plot(x_arr[:, 1], y_sklearn, c=\"y\")\n",
    "    plt.plot(x_arr[:, 1], y_tensorflow, c=\"g\")\n",
    "    plt.show()\n",
    "    \n"
   ]
  },
  {
   "cell_type": "code",
   "execution_count": null,
   "metadata": {},
   "outputs": [],
   "source": []
  }
 ],
 "metadata": {
  "kernelspec": {
   "display_name": "Python 2",
   "language": "python",
   "name": "python2"
  },
  "language_info": {
   "codemirror_mode": {
    "name": "ipython",
    "version": 2
   },
   "file_extension": ".py",
   "mimetype": "text/x-python",
   "name": "python",
   "nbconvert_exporter": "python",
   "pygments_lexer": "ipython2",
   "version": "2.7.6"
  }
 },
 "nbformat": 4,
 "nbformat_minor": 0
}
