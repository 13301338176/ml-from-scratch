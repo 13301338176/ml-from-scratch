{
 "cells": [
  {
   "cell_type": "markdown",
   "metadata": {
    "collapsed": true
   },
   "source": [
    "# Linear Regression\n",
    "\n"
   ]
  },
  {
   "cell_type": "markdown",
   "metadata": {
    "collapsed": true
   },
   "source": [
    "## Univariate Linear Regression\n",
    "\n",
    "[Gradient Descent based](#Gradient-Descent-based)  \n",
    "[Closed form](#Closed-form)  \n",
    "[Using Sklearn](#Using-sklearn)  \n",
    "[Using Tensorflow](#Using-sklearn)"
   ]
  },
  {
   "cell_type": "markdown",
   "metadata": {
    "collapsed": true
   },
   "source": [
    "### Gradient Descent based\n",
    " "
   ]
  },
  {
   "cell_type": "code",
   "execution_count": 2,
   "metadata": {
    "collapsed": true
   },
   "outputs": [
    {
     "name": "stdout",
     "output_type": "stream",
     "text": [
      "(20, 2) (20, 1)\n"
     ]
    },
    {
     "data": {
      "text/plain": [
       "<Figure size 640x480 with 1 Axes>"
      ]
     },
     "execution_count": 0,
     "metadata": {},
     "output_type": "execute_result"
    }
   ],
   "source": [
    "import numpy as np\n",
    "import matplotlib.pyplot as plt\n",
    "\n",
    "\n",
    "def generate_linear_data(w, N):\n",
    "    \"\"\"generate data\"\"\"\n",
    "    x = np.random.uniform(low=0, high=20, size=(N, 1))\n",
    "    # one column of ones for the bias\n",
    "    x = np.hstack([np.ones((N, 1)), x])\n",
    "    # linear data with uniform error\n",
    "    y = x.dot(w) + (2 * np.random.random(N) -1)\n",
    "    y = y.reshape((N, 1))\n",
    "    return x, y\n",
    "\n",
    "\n",
    "x, y = generate_linear_data(np.array([0, 1]), 20)\n",
    "print(x.shape, y.shape)\n",
    "plt.scatter(x[:, 1], y)\n",
    "plt.show()"
   ]
  },
  {
   "cell_type": "code",
   "execution_count": 60,
   "metadata": {},
   "outputs": [],
   "source": [
    "# our hypothesis\n",
    "def hypothesis(w):\n",
    "    \"\"\"In this case, our hypothesis is a line\"\"\"\n",
    "    return lambda x: x.dot(w)\n",
    "\n",
    "\n",
    "def cost(w, x, y):\n",
    "    # Mean squared error\n",
    "    N = len(x)\n",
    "    h = hypothesis(w)\n",
    "    # print(x.shape, y.shape)\n",
    "    hx = h(x).reshape(y.shape)\n",
    "    # print(\"h(x)\", h(x).shape)\n",
    "    # print(\"np.square(h(x)-y)\", (h_x -y).shape)\n",
    "    # print(np.sum(np.square(h(x)-y)))\n",
    "    return 1/(2*N) * np.sum(np.square(hx-y))\n",
    "\n",
    "\n",
    "def cost_derivative(w, x, y):\n",
    "    N = len(x)\n",
    "    h = hypothesis(w)\n",
    "    hx = h(x).reshape(y.shape)\n",
    "    # print(hx.shape)\n",
    "    s = (hx-y)*x\n",
    "    # print(s.shape)\n",
    "    return 1/N * np.sum(s, axis=0)"
   ]
  },
  {
   "cell_type": "code",
   "execution_count": 64,
   "metadata": {},
   "outputs": [],
   "source": [
    "# find parameters that minimize the cost function: Gradient Descent\n",
    "\n",
    "\n",
    "def gradient_descent(x, y, alpha=0.01, num_steps=1000):\n",
    "    \"\"\"Given data, return two parameters, a and b, for the best fit\"\"\"\n",
    "    w = np.random.random(2)\n",
    "    \n",
    "    for i in range(num_steps):\n",
    "        c = cost(w, x, y)\n",
    "        new_w = w - alpha * cost_derivative(w, x, y)\n",
    "        if i % 1000 == 0: \n",
    "            print(\"Iteration:\\t\", i, \"\\tcost:\\t\", c, \"\\tweights:\\t\", w)\n",
    "        w = new_w\n",
    "    return w"
   ]
  },
  {
   "cell_type": "code",
   "execution_count": 65,
   "metadata": {},
   "outputs": [
    {
     "name": "stdout",
     "output_type": "stream",
     "text": [
      "Iteration:\t 0 \tcost:\t 50.601850690657024 \tweights:\t [0.40145301 0.05551425]\nIteration:\t 1000 \tcost:\t 0.14902887535630802 \tweights:\t [0.21034631 0.99658005]\nIteration:\t 2000 \tcost:\t 0.14884620286935424 \tweights:\t [0.17302136 0.99966453]\nIteration:\t 3000 \tcost:\t 0.14884263439818737 \tweights:\t [0.16780457 1.00009564]\nIteration:\t 4000 \tcost:\t 0.14884256468880383 \tweights:\t [0.16707543 1.00015589]\nIteration:\t 5000 \tcost:\t 0.14884256332704468 \tweights:\t [0.16697353 1.00016431]\nIteration:\t 6000 \tcost:\t 0.14884256330044304 \tweights:\t [0.16695928 1.00016549]\nIteration:\t 7000 \tcost:\t 0.14884256329992324 \tweights:\t [0.16695729 1.00016566]\nIteration:\t 8000 \tcost:\t 0.14884256329991333 \tweights:\t [0.16695701 1.00016568]\nIteration:\t 9000 \tcost:\t 0.14884256329991297 \tweights:\t [0.16695697 1.00016568]\nFinal weights: [0.16695697 1.00016568]\n"
     ]
    }
   ],
   "source": [
    "w = gradient_descent(x,y, alpha=0.01, num_steps=10000)\n",
    "print(\"Final weights:\", w)"
   ]
  },
  {
   "cell_type": "code",
   "execution_count": 9,
   "metadata": {},
   "outputs": [
    {
     "data": {
      "image/png": "[encoded data removed]",
      "text/plain": [
       "<Figure size 432x288 with 1 Axes>"
      ]
     },
     "metadata": {},
     "output_type": "display_data"
    }
   ],
   "source": [
    "x_arr = np.arange(20).reshape((20, 1))\n",
    "x_arr = np.hstack([np.ones((20, 1)), x_arr])\n",
    "y_arr = hypothesis(w)(x_arr)\n",
    "\n",
    "plt.scatter(x[:, 1], y)\n",
    "plt.plot(x_arr[:, 1], y_arr, c=\"r\")\n",
    "plt.show()"
   ]
  },
  {
   "cell_type": "markdown",
   "metadata": {},
   "source": [
    "### Closed-form"
   ]
  },
  {
   "cell_type": "code",
   "execution_count": 10,
   "metadata": {},
   "outputs": [
    {
     "name": "stdout",
     "output_type": "stream",
     "text": [
      "Closed-form weights: [0.16695697 1.00016568]\n"
     ]
    },
    {
     "data": {
      "image/png": "[encoded data removed]",
      "text/plain": [
       "<Figure size 432x288 with 1 Axes>"
      ]
     },
     "metadata": {},
     "output_type": "display_data"
    }
   ],
   "source": [
    "w_closed_form = np.linalg.inv(x.T.dot(x)).dot(x.T).dot(y).reshape(w.size)\n",
    "print(\"Closed-form weights:\", w_closed_form)\n",
    "y_closed_form = hypothesis(w_closed_form)(x_arr)\n",
    "\n",
    "plt.scatter(x[:, 1], y)\n",
    "plt.plot(x_arr[:, 1], y_arr, c=\"r\")\n",
    "plt.plot(x_arr[:, 1], y_closed_form, c=\"b\")\n",
    "plt.show()"
   ]
  },
  {
   "cell_type": "markdown",
   "metadata": {},
   "source": [
    "### Using Sklearn"
   ]
  },
  {
   "cell_type": "code",
   "execution_count": 11,
   "metadata": {},
   "outputs": [
    {
     "name": "stdout",
     "output_type": "stream",
     "text": [
      "[[0.         1.00016568]]\n"
     ]
    },
    {
     "data": {
      "image/png": "[encoded data removed]",
      "text/plain": [
       "<Figure size 432x288 with 1 Axes>"
      ]
     },
     "metadata": {},
     "output_type": "display_data"
    }
   ],
   "source": [
    "from sklearn.linear_model import LinearRegression\n",
    "\n",
    "model = LinearRegression()\n",
    "model.fit(x, y)\n",
    "y_sklearn = model.predict(x_arr)\n",
    "print(model.coef_)\n",
    "plt.scatter(x[:, 1], y)\n",
    "plt.plot(x_arr[:, 1], y_arr, c=\"r\")\n",
    "plt.plot(x_arr[:, 1], y_closed_form, c=\"b\")\n",
    "plt.plot(x_arr[:, 1], y_sklearn, c=\"y\")\n",
    "plt.show()"
   ]
  },
  {
   "cell_type": "markdown",
   "metadata": {},
   "source": [
    "### Using Tensorflow"
   ]
  },
  {
   "cell_type": "code",
   "execution_count": 81,
   "metadata": {
    "collapsed": true
   },
   "outputs": [
    {
     "name": "stdout",
     "output_type": "stream",
     "text": [
      "Initial weights:  [0.2908591  0.61961985]\n9.702579 weights:  [0.29801068 0.7068992 ]\n"
     ]
    },
    {
     "name": "stdout",
     "output_type": "stream",
     "text": [
      "0.3020373 weights:  [0.315245   0.98791134]\n0.30170807 weights:  [0.3095269  0.98838395]\n"
     ]
    },
    {
     "name": "stdout",
     "output_type": "stream",
     "text": [
      "0.301404 weights:  [0.30402926 0.98883826]\n0.30112252 weights:  [0.29874358 0.989275  ]\n"
     ]
    },
    {
     "name": "stdout",
     "output_type": "stream",
     "text": [
      "0.30086276 weights:  [0.29366186 0.9896949 ]\n0.3006222 weights:  [0.28877595 0.9900987 ]\n"
     ]
    },
    {
     "name": "stdout",
     "output_type": "stream",
     "text": [
      "0.30040017 weights:  [0.28407845 0.9904869 ]\n0.30019483 weights:  [0.27956215 0.99086016]\n"
     ]
    },
    {
     "name": "stdout",
     "output_type": "stream",
     "text": [
      "0.30000478 weights:  [0.27521998 0.9912189 ]\nfinal loss:  0.299831 weights:  [0.2710862  0.99156064]\n"
     ]
    },
    {
     "data": {
      "image/png": "[encoded data removed]",
      "text/plain": [
       "<Figure size 432x288 with 1 Axes>"
      ]
     },
     "metadata": {},
     "output_type": "display_data"
    }
   ],
   "source": [
    "import tensorflow as tf\n",
    "\n",
    "N = len(x)\n",
    "X = tf.placeholder(tf.float32)\n",
    "Y = tf.placeholder(tf.float32)\n",
    "\n",
    "W = tf.Variable(tf.random_uniform((2, )), name=\"weights\", expected_shape=(2, ))\n",
    "\n",
    "Y_Pred = tf.reshape(tf.tensordot(X, W, 1), (N, 1))\n",
    "error = tf.square(Y_Pred - Y)\n",
    "f_error = tf.reduce_sum(error)/len(x) # + tf.norm(W)\n",
    "optimizer = tf.train.GradientDescentOptimizer(0.001).minimize(f_error)\n",
    "\n",
    "epochs = 1000\n",
    "with tf.Session() as sess:\n",
    "    sess.run(tf.global_variables_initializer())\n",
    "    print(\"Initial weights: \", W.eval())\n",
    "    \n",
    "    loss_expected = 0\n",
    "    for i in range(epochs):\n",
    "        \n",
    "        # print(x.shape, y.shape)\n",
    "        sess.run(optimizer, {X: x, Y: y})\n",
    "        # print(Y_Pred.eval(feed_dict={X: x}, session=sess).shape)\n",
    "        # print(error.eval(feed_dict={X: x, Y:y}, session=sess).shape)\n",
    "        # \n",
    "        # None + 1\n",
    "        \n",
    "        loss_per_epoch = sess.run(f_error, {X: x, Y: y})\n",
    "        \n",
    "        # Allow the training to quit if we've reached a minimum\n",
    "        if np.abs(loss_expected - loss_per_epoch) < 0.0000001:\n",
    "            break\n",
    "        loss_expected = loss_per_epoch\n",
    "        \n",
    "        if i%100==0:\n",
    "            print(loss_expected, \"weights: \", W.eval(session=sess))\n",
    "\n",
    "    print(\"final loss: \", loss_expected, \"weights: \", W.eval(session=sess))\n",
    "    y_arr = Y_Pred.eval(feed_dict={X: x_arr}, session=sess)\n",
    "    plt.figure()\n",
    "    plt.scatter(x[:, 1], y)\n",
    "    plt.plot(x_arr[:, 1], y_arr, c=\"g\")\n",
    "    plt.show()\n",
    "    \n"
   ]
  },
  {
   "cell_type": "code",
   "execution_count": null,
   "metadata": {},
   "outputs": [],
   "source": []
  }
 ],
 "metadata": {
  "kernelspec": {
   "display_name": "Python 2",
   "language": "python",
   "name": "python2"
  },
  "language_info": {
   "codemirror_mode": {
    "name": "ipython",
    "version": 2
   },
   "file_extension": ".py",
   "mimetype": "text/x-python",
   "name": "python",
   "nbconvert_exporter": "python",
   "pygments_lexer": "ipython2",
   "version": "2.7.6"
  }
 },
 "nbformat": 4,
 "nbformat_minor": 0
}
